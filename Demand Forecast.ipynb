{
 "cells": [
  {
   "cell_type": "markdown",
   "id": "00aba097",
   "metadata": {},
   "source": [
    "# Electricity demand forecast in France\n"
   ]
  },
  {
   "cell_type": "code",
   "execution_count": 2,
   "id": "755f299e",
   "metadata": {},
   "outputs": [],
   "source": [
    "import pandas as pd\n",
    "from datetime import datetime\n",
    "import matplotlib.pyplot as plt\n",
    "import seaborn as sns\n",
    "import plotly.express as px\n",
    "import numpy as np\n",
    "import math\n",
    "from sklearn.decomposition import PCA\n",
    "\n",
    "from sklearn.model_selection import TimeSeriesSplit\n",
    "from sklearn.metrics import mean_absolute_error\n",
    "from sklearn.metrics import mean_squared_error\n",
    "from sklearn.ensemble import RandomForestRegressor\n",
    "from sklearn.model_selection import RandomizedSearchCV\n",
    "from sklearn.tree import DecisionTreeRegressor\n",
    "from sklearn.metrics import mean_squared_log_error\n",
    "from sklearn.metrics import mean_absolute_percentage_error\n",
    "from sklearn.metrics import r2_score\n",
    "from sklearn.preprocessing import StandardScaler\n",
    "from sklearn.linear_model import SGDRegressor\n",
    "from sklearn.model_selection import cross_val_score\n",
    "from sklearn.model_selection import GridSearchCV\n",
    "\n",
    "import warnings\n",
    "warnings.filterwarnings(\"ignore\")"
   ]
  },
  {
   "cell_type": "markdown",
   "id": "a6ba3972",
   "metadata": {},
   "source": [
    "## General Description:\n",
    "\n",
    "\n",
    "The electricity demand of France is very much dependent on weather data. The demand of France is an important driver of European electricity prices, as it is one of the biggest countries. France has a lot of interconnections with surrounding countries. Hence, in periods of high demand France is likely to import electricity from neighboring countries, which will result in higher prices in France and the other countries. In periods of low demand, France is likely to export, which will result in lower prices. That is the reason that market parties need a good insight and forecast of this demand in France.\n",
    "\n",
    "## Problem Statement:\n",
    "Please create a demand forecast for France on an hourly level up to 48 hours ahead, for the French Market. For example, if you create a forecast on 11 March at 00:00. You will forecast the demand until March 13th at 00:00\n",
    "\n",
    "## Analysis\n",
    "Please indicate, on a monthly basis, what the average demand is for a weekday or a weekend at a certain temperature. We are very interested to see what one degree colder in winter or one degree warmer in summer has, as an effect on demand.\n",
    "\n",
    "## Data description"
   ]
  },
  {
   "cell_type": "code",
   "execution_count": 3,
   "id": "1714845a",
   "metadata": {},
   "outputs": [
    {
     "data": {
      "text/html": [
       "<div>\n",
       "<style scoped>\n",
       "    .dataframe tbody tr th:only-of-type {\n",
       "        vertical-align: middle;\n",
       "    }\n",
       "\n",
       "    .dataframe tbody tr th {\n",
       "        vertical-align: top;\n",
       "    }\n",
       "\n",
       "    .dataframe thead th {\n",
       "        text-align: right;\n",
       "    }\n",
       "</style>\n",
       "<table border=\"1\" class=\"dataframe\">\n",
       "  <thead>\n",
       "    <tr style=\"text-align: right;\">\n",
       "      <th></th>\n",
       "      <th>Unnamed: 0</th>\n",
       "      <th>demand [MW]</th>\n",
       "      <th>solar_actual [MW]</th>\n",
       "      <th>solar_forecast [MW]</th>\n",
       "      <th>solar_inferred_capacity [MW]</th>\n",
       "      <th>wind_actual [MW]</th>\n",
       "      <th>wind_inferred_capacity [MW]</th>\n",
       "      <th>albedo [%]</th>\n",
       "      <th>cloud_cover [%]</th>\n",
       "      <th>frozen_precipitation [%]</th>\n",
       "      <th>pressure [Pa]</th>\n",
       "      <th>radiation [W/m2]</th>\n",
       "      <th>air_tmp [Kelvin]</th>\n",
       "      <th>ground_tmp [Kelvin]</th>\n",
       "      <th>apparent_tmp [Kelvin]</th>\n",
       "      <th>wind_direction [angle]</th>\n",
       "      <th>wind_speed [m/s]</th>\n",
       "    </tr>\n",
       "  </thead>\n",
       "  <tbody>\n",
       "    <tr>\n",
       "      <th>0</th>\n",
       "      <td>2017-01-01 00:00:00+01:00</td>\n",
       "      <td>76345.25</td>\n",
       "      <td>0.0</td>\n",
       "      <td>NaN</td>\n",
       "      <td>5756.44</td>\n",
       "      <td>597.50</td>\n",
       "      <td>10513.95</td>\n",
       "      <td>0.0</td>\n",
       "      <td>2.45</td>\n",
       "      <td>-3.80</td>\n",
       "      <td>102875.0</td>\n",
       "      <td>0.0</td>\n",
       "      <td>271.60</td>\n",
       "      <td>269.82</td>\n",
       "      <td>269.84</td>\n",
       "      <td>209.0</td>\n",
       "      <td>2.97</td>\n",
       "    </tr>\n",
       "    <tr>\n",
       "      <th>1</th>\n",
       "      <td>2017-01-01 01:00:00+01:00</td>\n",
       "      <td>75437.00</td>\n",
       "      <td>0.0</td>\n",
       "      <td>NaN</td>\n",
       "      <td>5756.44</td>\n",
       "      <td>597.50</td>\n",
       "      <td>10513.95</td>\n",
       "      <td>0.0</td>\n",
       "      <td>2.48</td>\n",
       "      <td>-3.46</td>\n",
       "      <td>102839.0</td>\n",
       "      <td>0.0</td>\n",
       "      <td>271.62</td>\n",
       "      <td>269.85</td>\n",
       "      <td>269.79</td>\n",
       "      <td>212.0</td>\n",
       "      <td>3.13</td>\n",
       "    </tr>\n",
       "    <tr>\n",
       "      <th>2</th>\n",
       "      <td>2017-01-01 02:00:00+01:00</td>\n",
       "      <td>73368.25</td>\n",
       "      <td>0.0</td>\n",
       "      <td>NaN</td>\n",
       "      <td>5756.44</td>\n",
       "      <td>635.25</td>\n",
       "      <td>10513.95</td>\n",
       "      <td>0.0</td>\n",
       "      <td>4.62</td>\n",
       "      <td>-5.48</td>\n",
       "      <td>102735.0</td>\n",
       "      <td>0.0</td>\n",
       "      <td>271.61</td>\n",
       "      <td>269.93</td>\n",
       "      <td>269.58</td>\n",
       "      <td>218.0</td>\n",
       "      <td>3.25</td>\n",
       "    </tr>\n",
       "    <tr>\n",
       "      <th>3</th>\n",
       "      <td>2017-01-01 03:00:00+01:00</td>\n",
       "      <td>72116.00</td>\n",
       "      <td>0.0</td>\n",
       "      <td>NaN</td>\n",
       "      <td>5756.44</td>\n",
       "      <td>628.50</td>\n",
       "      <td>10513.95</td>\n",
       "      <td>0.0</td>\n",
       "      <td>6.13</td>\n",
       "      <td>-6.91</td>\n",
       "      <td>102660.0</td>\n",
       "      <td>0.0</td>\n",
       "      <td>271.60</td>\n",
       "      <td>269.99</td>\n",
       "      <td>269.44</td>\n",
       "      <td>218.0</td>\n",
       "      <td>3.37</td>\n",
       "    </tr>\n",
       "    <tr>\n",
       "      <th>4</th>\n",
       "      <td>2017-01-01 04:00:00+01:00</td>\n",
       "      <td>68593.75</td>\n",
       "      <td>0.0</td>\n",
       "      <td>NaN</td>\n",
       "      <td>5756.44</td>\n",
       "      <td>608.50</td>\n",
       "      <td>10513.95</td>\n",
       "      <td>0.0</td>\n",
       "      <td>6.75</td>\n",
       "      <td>-7.50</td>\n",
       "      <td>102629.0</td>\n",
       "      <td>0.0</td>\n",
       "      <td>271.60</td>\n",
       "      <td>270.02</td>\n",
       "      <td>269.38</td>\n",
       "      <td>219.0</td>\n",
       "      <td>3.42</td>\n",
       "    </tr>\n",
       "  </tbody>\n",
       "</table>\n",
       "</div>"
      ],
      "text/plain": [
       "                  Unnamed: 0  demand [MW]  solar_actual [MW]  \\\n",
       "0  2017-01-01 00:00:00+01:00     76345.25                0.0   \n",
       "1  2017-01-01 01:00:00+01:00     75437.00                0.0   \n",
       "2  2017-01-01 02:00:00+01:00     73368.25                0.0   \n",
       "3  2017-01-01 03:00:00+01:00     72116.00                0.0   \n",
       "4  2017-01-01 04:00:00+01:00     68593.75                0.0   \n",
       "\n",
       "   solar_forecast [MW]  solar_inferred_capacity [MW]  wind_actual [MW]  \\\n",
       "0                  NaN                       5756.44            597.50   \n",
       "1                  NaN                       5756.44            597.50   \n",
       "2                  NaN                       5756.44            635.25   \n",
       "3                  NaN                       5756.44            628.50   \n",
       "4                  NaN                       5756.44            608.50   \n",
       "\n",
       "   wind_inferred_capacity [MW]  albedo [%]  cloud_cover [%]  \\\n",
       "0                     10513.95         0.0             2.45   \n",
       "1                     10513.95         0.0             2.48   \n",
       "2                     10513.95         0.0             4.62   \n",
       "3                     10513.95         0.0             6.13   \n",
       "4                     10513.95         0.0             6.75   \n",
       "\n",
       "   frozen_precipitation [%]  pressure [Pa]  radiation [W/m2]  \\\n",
       "0                     -3.80       102875.0               0.0   \n",
       "1                     -3.46       102839.0               0.0   \n",
       "2                     -5.48       102735.0               0.0   \n",
       "3                     -6.91       102660.0               0.0   \n",
       "4                     -7.50       102629.0               0.0   \n",
       "\n",
       "   air_tmp [Kelvin]  ground_tmp [Kelvin]  apparent_tmp [Kelvin]  \\\n",
       "0            271.60               269.82                 269.84   \n",
       "1            271.62               269.85                 269.79   \n",
       "2            271.61               269.93                 269.58   \n",
       "3            271.60               269.99                 269.44   \n",
       "4            271.60               270.02                 269.38   \n",
       "\n",
       "   wind_direction [angle]  wind_speed [m/s]  \n",
       "0                   209.0              2.97  \n",
       "1                   212.0              3.13  \n",
       "2                   218.0              3.25  \n",
       "3                   218.0              3.37  \n",
       "4                   219.0              3.42  "
      ]
     },
     "execution_count": 3,
     "metadata": {},
     "output_type": "execute_result"
    }
   ],
   "source": [
    "df = pd.read_csv(\"dataset.csv\", sep=\",\")# Read data\n",
    "df.head()"
   ]
  },
  {
   "cell_type": "code",
   "execution_count": 4,
   "id": "6da64635",
   "metadata": {},
   "outputs": [
    {
     "data": {
      "text/plain": [
       "Unnamed: 0                      2017-01-01 00:00:00+01:00\n",
       "demand [MW]                                      76345.25\n",
       "solar_actual [MW]                                     0.0\n",
       "solar_forecast [MW]                                   NaN\n",
       "solar_inferred_capacity [MW]                      5756.44\n",
       "wind_actual [MW]                                    597.5\n",
       "wind_inferred_capacity [MW]                      10513.95\n",
       "albedo [%]                                            0.0\n",
       "cloud_cover [%]                                      2.45\n",
       "frozen_precipitation [%]                             -3.8\n",
       "pressure [Pa]                                    102875.0\n",
       "radiation [W/m2]                                      0.0\n",
       "air_tmp [Kelvin]                                    271.6\n",
       "ground_tmp [Kelvin]                                269.82\n",
       "apparent_tmp [Kelvin]                              269.84\n",
       "wind_direction [angle]                              209.0\n",
       "wind_speed [m/s]                                     2.97\n",
       "Name: 0, dtype: object"
      ]
     },
     "execution_count": 4,
     "metadata": {},
     "output_type": "execute_result"
    }
   ],
   "source": [
    "df.loc[0]"
   ]
  },
  {
   "cell_type": "code",
   "execution_count": 5,
   "id": "9c514396",
   "metadata": {},
   "outputs": [
    {
     "name": "stdout",
     "output_type": "stream",
     "text": [
      " Shape of the data:  (45432, 17)\n",
      "Index(['Unnamed: 0', 'demand [MW]', 'solar_actual [MW]', 'solar_forecast [MW]',\n",
      "       'solar_inferred_capacity [MW]', 'wind_actual [MW]',\n",
      "       'wind_inferred_capacity [MW]', 'albedo [%]', 'cloud_cover [%]',\n",
      "       'frozen_precipitation [%]', 'pressure [Pa]', 'radiation [W/m2]',\n",
      "       'air_tmp [Kelvin]', 'ground_tmp [Kelvin]', 'apparent_tmp [Kelvin]',\n",
      "       'wind_direction [angle]', 'wind_speed [m/s]'],\n",
      "      dtype='object')\n"
     ]
    }
   ],
   "source": [
    "df.head()\n",
    "print(\" Shape of the data: \", df.shape)\n",
    "\n",
    "print(df.columns)"
   ]
  },
  {
   "cell_type": "code",
   "execution_count": 6,
   "id": "704b1eda",
   "metadata": {},
   "outputs": [
    {
     "data": {
      "text/html": [
       "<div>\n",
       "<style scoped>\n",
       "    .dataframe tbody tr th:only-of-type {\n",
       "        vertical-align: middle;\n",
       "    }\n",
       "\n",
       "    .dataframe tbody tr th {\n",
       "        vertical-align: top;\n",
       "    }\n",
       "\n",
       "    .dataframe thead th {\n",
       "        text-align: right;\n",
       "    }\n",
       "</style>\n",
       "<table border=\"1\" class=\"dataframe\">\n",
       "  <thead>\n",
       "    <tr style=\"text-align: right;\">\n",
       "      <th></th>\n",
       "      <th>demand [MW]</th>\n",
       "      <th>solar_actual [MW]</th>\n",
       "      <th>solar_forecast [MW]</th>\n",
       "      <th>solar_inferred_capacity [MW]</th>\n",
       "      <th>wind_actual [MW]</th>\n",
       "      <th>wind_inferred_capacity [MW]</th>\n",
       "      <th>albedo [%]</th>\n",
       "      <th>cloud_cover [%]</th>\n",
       "      <th>frozen_precipitation [%]</th>\n",
       "      <th>pressure [Pa]</th>\n",
       "      <th>radiation [W/m2]</th>\n",
       "      <th>air_tmp [Kelvin]</th>\n",
       "      <th>ground_tmp [Kelvin]</th>\n",
       "      <th>apparent_tmp [Kelvin]</th>\n",
       "      <th>wind_direction [angle]</th>\n",
       "      <th>wind_speed [m/s]</th>\n",
       "      <th>Time</th>\n",
       "    </tr>\n",
       "    <tr>\n",
       "      <th>Time</th>\n",
       "      <th></th>\n",
       "      <th></th>\n",
       "      <th></th>\n",
       "      <th></th>\n",
       "      <th></th>\n",
       "      <th></th>\n",
       "      <th></th>\n",
       "      <th></th>\n",
       "      <th></th>\n",
       "      <th></th>\n",
       "      <th></th>\n",
       "      <th></th>\n",
       "      <th></th>\n",
       "      <th></th>\n",
       "      <th></th>\n",
       "      <th></th>\n",
       "      <th></th>\n",
       "    </tr>\n",
       "  </thead>\n",
       "  <tbody>\n",
       "    <tr>\n",
       "      <th>2017-01-01 00:00:00+01:00</th>\n",
       "      <td>76345.25</td>\n",
       "      <td>0.0</td>\n",
       "      <td>NaN</td>\n",
       "      <td>5756.44</td>\n",
       "      <td>597.50</td>\n",
       "      <td>10513.95</td>\n",
       "      <td>0.0</td>\n",
       "      <td>2.45</td>\n",
       "      <td>-3.80</td>\n",
       "      <td>102875.0</td>\n",
       "      <td>0.0</td>\n",
       "      <td>271.60</td>\n",
       "      <td>269.82</td>\n",
       "      <td>269.84</td>\n",
       "      <td>209.0</td>\n",
       "      <td>2.97</td>\n",
       "      <td>2017-01-01 00:00:00+01:00</td>\n",
       "    </tr>\n",
       "    <tr>\n",
       "      <th>2017-01-01 01:00:00+01:00</th>\n",
       "      <td>75437.00</td>\n",
       "      <td>0.0</td>\n",
       "      <td>NaN</td>\n",
       "      <td>5756.44</td>\n",
       "      <td>597.50</td>\n",
       "      <td>10513.95</td>\n",
       "      <td>0.0</td>\n",
       "      <td>2.48</td>\n",
       "      <td>-3.46</td>\n",
       "      <td>102839.0</td>\n",
       "      <td>0.0</td>\n",
       "      <td>271.62</td>\n",
       "      <td>269.85</td>\n",
       "      <td>269.79</td>\n",
       "      <td>212.0</td>\n",
       "      <td>3.13</td>\n",
       "      <td>2017-01-01 01:00:00+01:00</td>\n",
       "    </tr>\n",
       "    <tr>\n",
       "      <th>2017-01-01 02:00:00+01:00</th>\n",
       "      <td>73368.25</td>\n",
       "      <td>0.0</td>\n",
       "      <td>NaN</td>\n",
       "      <td>5756.44</td>\n",
       "      <td>635.25</td>\n",
       "      <td>10513.95</td>\n",
       "      <td>0.0</td>\n",
       "      <td>4.62</td>\n",
       "      <td>-5.48</td>\n",
       "      <td>102735.0</td>\n",
       "      <td>0.0</td>\n",
       "      <td>271.61</td>\n",
       "      <td>269.93</td>\n",
       "      <td>269.58</td>\n",
       "      <td>218.0</td>\n",
       "      <td>3.25</td>\n",
       "      <td>2017-01-01 02:00:00+01:00</td>\n",
       "    </tr>\n",
       "    <tr>\n",
       "      <th>2017-01-01 03:00:00+01:00</th>\n",
       "      <td>72116.00</td>\n",
       "      <td>0.0</td>\n",
       "      <td>NaN</td>\n",
       "      <td>5756.44</td>\n",
       "      <td>628.50</td>\n",
       "      <td>10513.95</td>\n",
       "      <td>0.0</td>\n",
       "      <td>6.13</td>\n",
       "      <td>-6.91</td>\n",
       "      <td>102660.0</td>\n",
       "      <td>0.0</td>\n",
       "      <td>271.60</td>\n",
       "      <td>269.99</td>\n",
       "      <td>269.44</td>\n",
       "      <td>218.0</td>\n",
       "      <td>3.37</td>\n",
       "      <td>2017-01-01 03:00:00+01:00</td>\n",
       "    </tr>\n",
       "    <tr>\n",
       "      <th>2017-01-01 04:00:00+01:00</th>\n",
       "      <td>68593.75</td>\n",
       "      <td>0.0</td>\n",
       "      <td>NaN</td>\n",
       "      <td>5756.44</td>\n",
       "      <td>608.50</td>\n",
       "      <td>10513.95</td>\n",
       "      <td>0.0</td>\n",
       "      <td>6.75</td>\n",
       "      <td>-7.50</td>\n",
       "      <td>102629.0</td>\n",
       "      <td>0.0</td>\n",
       "      <td>271.60</td>\n",
       "      <td>270.02</td>\n",
       "      <td>269.38</td>\n",
       "      <td>219.0</td>\n",
       "      <td>3.42</td>\n",
       "      <td>2017-01-01 04:00:00+01:00</td>\n",
       "    </tr>\n",
       "  </tbody>\n",
       "</table>\n",
       "</div>"
      ],
      "text/plain": [
       "                           demand [MW]  solar_actual [MW]  \\\n",
       "Time                                                        \n",
       "2017-01-01 00:00:00+01:00     76345.25                0.0   \n",
       "2017-01-01 01:00:00+01:00     75437.00                0.0   \n",
       "2017-01-01 02:00:00+01:00     73368.25                0.0   \n",
       "2017-01-01 03:00:00+01:00     72116.00                0.0   \n",
       "2017-01-01 04:00:00+01:00     68593.75                0.0   \n",
       "\n",
       "                           solar_forecast [MW]  solar_inferred_capacity [MW]  \\\n",
       "Time                                                                           \n",
       "2017-01-01 00:00:00+01:00                  NaN                       5756.44   \n",
       "2017-01-01 01:00:00+01:00                  NaN                       5756.44   \n",
       "2017-01-01 02:00:00+01:00                  NaN                       5756.44   \n",
       "2017-01-01 03:00:00+01:00                  NaN                       5756.44   \n",
       "2017-01-01 04:00:00+01:00                  NaN                       5756.44   \n",
       "\n",
       "                           wind_actual [MW]  wind_inferred_capacity [MW]  \\\n",
       "Time                                                                       \n",
       "2017-01-01 00:00:00+01:00            597.50                     10513.95   \n",
       "2017-01-01 01:00:00+01:00            597.50                     10513.95   \n",
       "2017-01-01 02:00:00+01:00            635.25                     10513.95   \n",
       "2017-01-01 03:00:00+01:00            628.50                     10513.95   \n",
       "2017-01-01 04:00:00+01:00            608.50                     10513.95   \n",
       "\n",
       "                           albedo [%]  cloud_cover [%]  \\\n",
       "Time                                                     \n",
       "2017-01-01 00:00:00+01:00         0.0             2.45   \n",
       "2017-01-01 01:00:00+01:00         0.0             2.48   \n",
       "2017-01-01 02:00:00+01:00         0.0             4.62   \n",
       "2017-01-01 03:00:00+01:00         0.0             6.13   \n",
       "2017-01-01 04:00:00+01:00         0.0             6.75   \n",
       "\n",
       "                           frozen_precipitation [%]  pressure [Pa]  \\\n",
       "Time                                                                 \n",
       "2017-01-01 00:00:00+01:00                     -3.80       102875.0   \n",
       "2017-01-01 01:00:00+01:00                     -3.46       102839.0   \n",
       "2017-01-01 02:00:00+01:00                     -5.48       102735.0   \n",
       "2017-01-01 03:00:00+01:00                     -6.91       102660.0   \n",
       "2017-01-01 04:00:00+01:00                     -7.50       102629.0   \n",
       "\n",
       "                           radiation [W/m2]  air_tmp [Kelvin]  \\\n",
       "Time                                                            \n",
       "2017-01-01 00:00:00+01:00               0.0            271.60   \n",
       "2017-01-01 01:00:00+01:00               0.0            271.62   \n",
       "2017-01-01 02:00:00+01:00               0.0            271.61   \n",
       "2017-01-01 03:00:00+01:00               0.0            271.60   \n",
       "2017-01-01 04:00:00+01:00               0.0            271.60   \n",
       "\n",
       "                           ground_tmp [Kelvin]  apparent_tmp [Kelvin]  \\\n",
       "Time                                                                    \n",
       "2017-01-01 00:00:00+01:00               269.82                 269.84   \n",
       "2017-01-01 01:00:00+01:00               269.85                 269.79   \n",
       "2017-01-01 02:00:00+01:00               269.93                 269.58   \n",
       "2017-01-01 03:00:00+01:00               269.99                 269.44   \n",
       "2017-01-01 04:00:00+01:00               270.02                 269.38   \n",
       "\n",
       "                           wind_direction [angle]  wind_speed [m/s]  \\\n",
       "Time                                                                  \n",
       "2017-01-01 00:00:00+01:00                   209.0              2.97   \n",
       "2017-01-01 01:00:00+01:00                   212.0              3.13   \n",
       "2017-01-01 02:00:00+01:00                   218.0              3.25   \n",
       "2017-01-01 03:00:00+01:00                   218.0              3.37   \n",
       "2017-01-01 04:00:00+01:00                   219.0              3.42   \n",
       "\n",
       "                                                Time  \n",
       "Time                                                  \n",
       "2017-01-01 00:00:00+01:00  2017-01-01 00:00:00+01:00  \n",
       "2017-01-01 01:00:00+01:00  2017-01-01 01:00:00+01:00  \n",
       "2017-01-01 02:00:00+01:00  2017-01-01 02:00:00+01:00  \n",
       "2017-01-01 03:00:00+01:00  2017-01-01 03:00:00+01:00  \n",
       "2017-01-01 04:00:00+01:00  2017-01-01 04:00:00+01:00  "
      ]
     },
     "execution_count": 6,
     "metadata": {},
     "output_type": "execute_result"
    }
   ],
   "source": [
    "df['Time'] = pd.to_datetime(df['Unnamed: 0'])\n",
    "df.index = df['Time']\n",
    "df = df.drop(['Unnamed: 0'], 1)\n",
    "df.head()"
   ]
  },
  {
   "cell_type": "markdown",
   "id": "3eabdc54",
   "metadata": {},
   "source": [
    "\n",
    "Here we are given with data from  01 January 2017 to 08 March 2022 that contains demand in MW(Mega Watts) for a particular Hour, Climate conditions at a particular hour. By the above we in total 45,432 hours of data with 17 columns in which we have Demand in MW, Solar and Wind Capacity in MW.\n",
    "\n",
    "To state the climate conditions we have details like,\n",
    "\n",
    "- Albedo in %\n",
    "- cloud_cover [%]\n",
    "- frozen_precipitation [%]\n",
    "- pressure [Pa]\n",
    "- radiation [W/m2]\n",
    "- air_tmp [Kelvin]\n",
    "- ground_tmp [Kelvin]\n",
    "- apparent_tmp [Kelvin]\n",
    "- wind_direction [angle]\n",
    "- wind_speed [m/s]\n",
    "\n",
    "\n",
    "\n",
    "## Exploratory Data Analysis"
   ]
  },
  {
   "cell_type": "code",
   "execution_count": 7,
   "id": "ab9836a4",
   "metadata": {},
   "outputs": [
    {
     "data": {
      "text/plain": [
       "<AxesSubplot:xlabel='Time', ylabel='demand [MW]'>"
      ]
     },
     "execution_count": 7,
     "metadata": {},
     "output_type": "execute_result"
    },
    {
     "data": {
      "image/png": "[encoded data removed]",
      "text/plain": [
       "<Figure size 432x288 with 1 Axes>"
      ]
     },
     "metadata": {
      "needs_background": "light"
     },
     "output_type": "display_data"
    }
   ],
   "source": [
    "sns.lineplot(x= \"Time\", y=\"demand [MW]\", data = df)"
   ]
  },
  {
   "cell_type": "markdown",
   "id": "ff1ba3f3",
   "metadata": {},
   "source": [
    "From the above given time series plot betwee 2017 to 2022 we can easily infer that the demand in electricity follows uniformity that is the electricity is very high during the start of the year and it gradually the demand comes down in mid year then it further increases. So from this in order to make analysis on monthly we can consider the data any year.\n",
    "\n",
    "### Data cleaning\n",
    "\n",
    "#### Missing values"
   ]
  },
  {
   "cell_type": "code",
   "execution_count": 8,
   "id": "1a2e032c",
   "metadata": {},
   "outputs": [
    {
     "data": {
      "text/plain": [
       "demand [MW]                       3\n",
       "solar_actual [MW]                19\n",
       "solar_forecast [MW]             222\n",
       "solar_inferred_capacity [MW]      0\n",
       "wind_actual [MW]                 19\n",
       "wind_inferred_capacity [MW]       0\n",
       "albedo [%]                       17\n",
       "cloud_cover [%]                  16\n",
       "frozen_precipitation [%]         10\n",
       "pressure [Pa]                    11\n",
       "radiation [W/m2]                 16\n",
       "air_tmp [Kelvin]                 10\n",
       "ground_tmp [Kelvin]              10\n",
       "apparent_tmp [Kelvin]            10\n",
       "wind_direction [angle]           11\n",
       "wind_speed [m/s]                 11\n",
       "Time                              0\n",
       "dtype: int64"
      ]
     },
     "execution_count": 8,
     "metadata": {},
     "output_type": "execute_result"
    }
   ],
   "source": [
    "df.isna().sum()"
   ]
  },
  {
   "cell_type": "code",
   "execution_count": 9,
   "id": "e95d7ee6",
   "metadata": {},
   "outputs": [],
   "source": [
    "df.fillna(df['demand [MW]'].mode()[0], inplace = True)\n",
    "df2 = df.drop(['solar_actual [MW]', \"solar_forecast [MW]\",\"wind_actual [MW]\", \"solar_inferred_capacity [MW]\", \"wind_inferred_capacity [MW]\" ], 1).fillna(method='ffill')\n",
    "#df.fillna(df['solar_forecast [MW]'])"
   ]
  },
  {
   "cell_type": "code",
   "execution_count": 10,
   "id": "81f26ccd",
   "metadata": {},
   "outputs": [
    {
     "data": {
      "text/plain": [
       "demand [MW]                 0\n",
       "albedo [%]                  0\n",
       "cloud_cover [%]             0\n",
       "frozen_precipitation [%]    0\n",
       "pressure [Pa]               0\n",
       "radiation [W/m2]            0\n",
       "air_tmp [Kelvin]            0\n",
       "ground_tmp [Kelvin]         0\n",
       "apparent_tmp [Kelvin]       0\n",
       "wind_direction [angle]      0\n",
       "wind_speed [m/s]            0\n",
       "Time                        0\n",
       "dtype: int64"
      ]
     },
     "execution_count": 10,
     "metadata": {},
     "output_type": "execute_result"
    }
   ],
   "source": [
    "df2.isna().sum()"
   ]
  },
  {
   "cell_type": "code",
   "execution_count": 11,
   "id": "3d4a73b1",
   "metadata": {},
   "outputs": [],
   "source": [
    "#df2.index = pd.to_datetime(df.index, utc = True)\n",
    "months = []\n",
    "years = []\n",
    "for i in range(0, len(df2)):\n",
    "    \n",
    "    months.append(df2['Time'][i].strftime(\"%B\"))\n",
    "    years.append(df2['Time'][i].strftime(\"%Y\"))"
   ]
  },
  {
   "cell_type": "code",
   "execution_count": 12,
   "id": "1870ce45",
   "metadata": {},
   "outputs": [],
   "source": [
    "data = {'Months': months, 'Year': years, \"Demand\": df['demand [MW]']}"
   ]
  },
  {
   "cell_type": "code",
   "execution_count": 13,
   "id": "07a7bb44",
   "metadata": {},
   "outputs": [
    {
     "data": {
      "image/png": "[encoded data removed]",
      "text/plain": [
       "<Figure size 792x648 with 2 Axes>"
      ]
     },
     "metadata": {
      "needs_background": "light"
     },
     "output_type": "display_data"
    }
   ],
   "source": [
    "df1 = pd.DataFrame(data)\n",
    "df_m= df1.groupby(['Year','Months']).mean().unstack(level=0)\n",
    "fig, ax = plt.subplots(figsize=(11, 9))\n",
    "title = 'monthly Average Demand in MW'.upper()\n",
    "plt.title(title)\n",
    "sns.heatmap(df_m, annot=True, cmap = 'Blues')\n",
    "plt.show()"
   ]
  },
  {
   "cell_type": "markdown",
   "id": "a73d98a4",
   "metadata": {},
   "source": [
    "From this analysis we can infer that the higher electricity demands is during the months of January, February, March, November and December that is during the start of the year and end of the year. Furthermore we will analyze the electricity demand vs weather conditions to analyze this we are given with different climatic conditions. We utilize the correlation factor and additional statistical analysis to find the relation between the climatic conditions.\n",
    "\n",
    "- Albedo in %\n",
    "- cloud_cover [%]\n",
    "- frozen_precipitation [%]\n",
    "- pressure [Pa]\n",
    "- radiation [W/m2]\n",
    "- air_tmp [Kelvin]\n",
    "- ground_tmp [Kelvin]\n",
    "- apparent_tmp [Kelvin]\n",
    "- wind_direction [angle]\n",
    "- wind_speed [m/s]"
   ]
  },
  {
   "cell_type": "code",
   "execution_count": 14,
   "id": "7333e85e",
   "metadata": {},
   "outputs": [],
   "source": [
    "c_data = {\"albedo\": df2['albedo [%]'], \"Cloudcover\": df2['cloud_cover [%]'], \"frozenprec\": df2[\"frozen_precipitation [%]\"], \"pressure\":df2['pressure [Pa]'], \"radiation\": df2['radiation [W/m2]'], \"air_tmp\":df2['air_tmp [Kelvin]'], \"gnd_tmp\":df2['ground_tmp [Kelvin]'], \"app_tmp\":df2['apparent_tmp [Kelvin]'], \"winddir\":df2['wind_direction [angle]'], \"windspeed\":df2['wind_speed [m/s]']}\n",
    "climate = pd.DataFrame(c_data)"
   ]
  },
  {
   "cell_type": "code",
   "execution_count": 15,
   "id": "55813c71",
   "metadata": {},
   "outputs": [
    {
     "data": {
      "text/plain": [
       "<AxesSubplot:>"
      ]
     },
     "execution_count": 15,
     "metadata": {},
     "output_type": "execute_result"
    },
    {
     "data": {
      "image/png": "[encoded data removed]",
      "text/plain": [
       "<Figure size 792x648 with 2 Axes>"
      ]
     },
     "metadata": {
      "needs_background": "light"
     },
     "output_type": "display_data"
    }
   ],
   "source": [
    "fig, ax = plt.subplots(figsize=(11, 9))\n",
    "\n",
    "sns.heatmap(climate.corr(), annot = True)"
   ]
  },
  {
   "cell_type": "markdown",
   "id": "bc097c77",
   "metadata": {},
   "source": [
    "From the above analysis we can say that air temperature, Ground temperature and apparent temperature are highly correlated to each other additionally radition feature also have relatively good correlation with above. By considering this we can omit features such as Radiation, Air Temperature, Ground temperature and just keep Apparent temperature feature.\n",
    "\n",
    "Now we make theoritical study to determine the remaining features.\n",
    "\n",
    "- Apparent temperature is caluclated as AT  = f(pressure, humidity, wind speed, air temperature) that says we can omit wind speed and wind direction feature from the given data.\n",
    "\n",
    "By all these analysis we can only consider apparent temperature because it can represent all other factors in the given data."
   ]
  },
  {
   "cell_type": "code",
   "execution_count": 16,
   "id": "765546de",
   "metadata": {},
   "outputs": [],
   "source": [
    "df1['apr_tmp'] = df2['apparent_tmp [Kelvin]']\n",
    "df1['time'] = df2.index"
   ]
  },
  {
   "cell_type": "code",
   "execution_count": 17,
   "id": "70e53332",
   "metadata": {},
   "outputs": [],
   "source": [
    "def kelvinToCelsius(kelvin):\n",
    "    return kelvin - 273.15\n",
    "tmp = []\n",
    "for i in df1['apr_tmp']:\n",
    "    a = kelvinToCelsius(i)\n",
    "    tmp.append(a)"
   ]
  },
  {
   "cell_type": "code",
   "execution_count": 18,
   "id": "9cd90727",
   "metadata": {},
   "outputs": [],
   "source": [
    "df1['temp[C]'] = tmp"
   ]
  },
  {
   "cell_type": "code",
   "execution_count": 19,
   "id": "be0add13",
   "metadata": {},
   "outputs": [],
   "source": [
    "df2 = df1.drop(['Demand', 'apr_tmp', 'time'], 1)"
   ]
  },
  {
   "cell_type": "code",
   "execution_count": 20,
   "id": "0cf784ff",
   "metadata": {},
   "outputs": [],
   "source": [
    "df_c = df2.groupby(['Year','Months']).mean().unstack(level=0)"
   ]
  },
  {
   "cell_type": "code",
   "execution_count": 21,
   "id": "5ac97a2b",
   "metadata": {},
   "outputs": [],
   "source": [
    "df_d= df1.groupby(['Months']).mean().unstack(level=0)\n"
   ]
  },
  {
   "cell_type": "code",
   "execution_count": 22,
   "id": "12735681",
   "metadata": {},
   "outputs": [
    {
     "data": {
      "image/png": "[encoded data removed]",
      "text/plain": [
       "<Figure size 576x432 with 1 Axes>"
      ]
     },
     "metadata": {
      "needs_background": "light"
     },
     "output_type": "display_data"
    }
   ],
   "source": [
    "fig, ax = plt.subplots(figsize=(8, 6))\n",
    "\n",
    "ax = sns.barplot(x=df_d['Demand'].index, y='Demand', data=df_d).set_xticklabels(ax.get_xticklabels(),rotation = 90)\n"
   ]
  },
  {
   "cell_type": "code",
   "execution_count": 23,
   "id": "a9a66658",
   "metadata": {},
   "outputs": [
    {
     "data": {
      "image/png": "[encoded data removed]",
      "text/plain": [
       "<Figure size 1872x1152 with 4 Axes>"
      ]
     },
     "metadata": {
      "needs_background": "light"
     },
     "output_type": "display_data"
    }
   ],
   "source": [
    "title = 'Monthly Average Demand(in MW) with temperature(in celcius)'\n",
    "\n",
    "fig, ((ax1, cbar_ax), (ax2, dummy_ax)) = plt.subplots(nrows=2, ncols=2, figsize=(26, 16), sharex='col',\n",
    "                                                      gridspec_kw={'height_ratios': [5, 1], 'width_ratios': [20, 1]})\n",
    "plt.title(title)\n",
    "\n",
    "sns.heatmap(df_c.T, cmap=\"Blues\", cbar_ax=cbar_ax, xticklabels=False, linewidths=2,annot = True, ax=ax1)\n",
    "ax2.set_xlabel('Month')\n",
    "x_ticks = df_c.index\n",
    "x_tick_pos = [i + 0.5 for i in range(len(x_ticks))]\n",
    "ax2.bar(x_tick_pos, list(df_d['Demand']), align='center')\n",
    "sns.color_palette(\"husl\", 9)\n",
    "\n",
    "ax2.set_xticks(x_tick_pos)\n",
    "ax2.set_xticklabels(x_ticks)\n",
    "dummy_ax.axis('off')\n",
    "plt.tight_layout()\n",
    "plt.show()"
   ]
  },
  {
   "cell_type": "code",
   "execution_count": 26,
   "id": "22246b26",
   "metadata": {},
   "outputs": [
    {
     "data": {
      "text/plain": [
       "(45432, 15)"
      ]
     },
     "execution_count": 26,
     "metadata": {},
     "output_type": "execute_result"
    }
   ],
   "source": [
    "X = df.drop([\"demand [MW]\", \"Time\"],1)\n",
    "y = df[\"demand [MW]\"]\n",
    "X.shape"
   ]
  },
  {
   "cell_type": "markdown",
   "id": "94477b32",
   "metadata": {},
   "source": [
    "### Principle Component analysis"
   ]
  },
  {
   "cell_type": "code",
   "execution_count": 27,
   "id": "2e053378",
   "metadata": {},
   "outputs": [],
   "source": [
    "pca = PCA(n_components = 2)\n",
    "principalComponents = pca.fit_transform(X)\n",
    "principalDf = pd.DataFrame(data = principalComponents, columns = ['principal component 1', 'principal component 2'])\n"
   ]
  },
  {
   "cell_type": "code",
   "execution_count": 28,
   "id": "5ffe0888",
   "metadata": {},
   "outputs": [],
   "source": [
    "principalDf.index = X.index"
   ]
  },
  {
   "cell_type": "code",
   "execution_count": 29,
   "id": "93939a73",
   "metadata": {},
   "outputs": [
    {
     "data": {
      "text/html": [
       "<div>\n",
       "<style scoped>\n",
       "    .dataframe tbody tr th:only-of-type {\n",
       "        vertical-align: middle;\n",
       "    }\n",
       "\n",
       "    .dataframe tbody tr th {\n",
       "        vertical-align: top;\n",
       "    }\n",
       "\n",
       "    .dataframe thead th {\n",
       "        text-align: right;\n",
       "    }\n",
       "</style>\n",
       "<table border=\"1\" class=\"dataframe\">\n",
       "  <thead>\n",
       "    <tr style=\"text-align: right;\">\n",
       "      <th></th>\n",
       "      <th>principal component 1</th>\n",
       "      <th>principal component 2</th>\n",
       "    </tr>\n",
       "    <tr>\n",
       "      <th>Time</th>\n",
       "      <th></th>\n",
       "      <th></th>\n",
       "    </tr>\n",
       "  </thead>\n",
       "  <tbody>\n",
       "    <tr>\n",
       "      <th>2017-01-01 00:00:00+01:00</th>\n",
       "      <td>36751.229594</td>\n",
       "      <td>-1586.586485</td>\n",
       "    </tr>\n",
       "    <tr>\n",
       "      <th>2017-01-01 01:00:00+01:00</th>\n",
       "      <td>36751.534079</td>\n",
       "      <td>-1584.515812</td>\n",
       "    </tr>\n",
       "    <tr>\n",
       "      <th>2017-01-01 02:00:00+01:00</th>\n",
       "      <td>36748.477720</td>\n",
       "      <td>-1545.570122</td>\n",
       "    </tr>\n",
       "    <tr>\n",
       "      <th>2017-01-01 03:00:00+01:00</th>\n",
       "      <td>36749.697285</td>\n",
       "      <td>-1547.184175</td>\n",
       "    </tr>\n",
       "    <tr>\n",
       "      <th>2017-01-01 04:00:00+01:00</th>\n",
       "      <td>36751.995536</td>\n",
       "      <td>-1562.878174</td>\n",
       "    </tr>\n",
       "    <tr>\n",
       "      <th>...</th>\n",
       "      <td>...</td>\n",
       "      <td>...</td>\n",
       "    </tr>\n",
       "    <tr>\n",
       "      <th>2022-03-08 19:00:00+01:00</th>\n",
       "      <td>-1773.498591</td>\n",
       "      <td>1753.382688</td>\n",
       "    </tr>\n",
       "    <tr>\n",
       "      <th>2022-03-08 20:00:00+01:00</th>\n",
       "      <td>-1994.176187</td>\n",
       "      <td>2493.438381</td>\n",
       "    </tr>\n",
       "    <tr>\n",
       "      <th>2022-03-08 21:00:00+01:00</th>\n",
       "      <td>-2015.425332</td>\n",
       "      <td>2674.057138</td>\n",
       "    </tr>\n",
       "    <tr>\n",
       "      <th>2022-03-08 22:00:00+01:00</th>\n",
       "      <td>-2010.847482</td>\n",
       "      <td>2651.636013</td>\n",
       "    </tr>\n",
       "    <tr>\n",
       "      <th>2022-03-08 23:00:00+01:00</th>\n",
       "      <td>-1991.867000</td>\n",
       "      <td>2485.663546</td>\n",
       "    </tr>\n",
       "  </tbody>\n",
       "</table>\n",
       "<p>45432 rows × 2 columns</p>\n",
       "</div>"
      ],
      "text/plain": [
       "                           principal component 1  principal component 2\n",
       "Time                                                                   \n",
       "2017-01-01 00:00:00+01:00           36751.229594           -1586.586485\n",
       "2017-01-01 01:00:00+01:00           36751.534079           -1584.515812\n",
       "2017-01-01 02:00:00+01:00           36748.477720           -1545.570122\n",
       "2017-01-01 03:00:00+01:00           36749.697285           -1547.184175\n",
       "2017-01-01 04:00:00+01:00           36751.995536           -1562.878174\n",
       "...                                          ...                    ...\n",
       "2022-03-08 19:00:00+01:00           -1773.498591            1753.382688\n",
       "2022-03-08 20:00:00+01:00           -1994.176187            2493.438381\n",
       "2022-03-08 21:00:00+01:00           -2015.425332            2674.057138\n",
       "2022-03-08 22:00:00+01:00           -2010.847482            2651.636013\n",
       "2022-03-08 23:00:00+01:00           -1991.867000            2485.663546\n",
       "\n",
       "[45432 rows x 2 columns]"
      ]
     },
     "execution_count": 29,
     "metadata": {},
     "output_type": "execute_result"
    }
   ],
   "source": [
    "principalDf"
   ]
  },
  {
   "cell_type": "code",
   "execution_count": 30,
   "id": "27a704e5",
   "metadata": {},
   "outputs": [],
   "source": [
    "tscv = TimeSeriesSplit(n_splits=5)\n",
    "def timeseries_train_test_split(X, y, test_size):\n",
    "    \"\"\"\n",
    "        Perform train-test split with respect to time series structure\n",
    "    \"\"\"\n",
    "    \n",
    "    # get the index after which test set starts\n",
    "    test_index = int(len(X)*(1-test_size))\n",
    "    \n",
    "    X_train = X.iloc[:test_index]\n",
    "    y_train = y.iloc[:test_index]\n",
    "    X_test = X.iloc[test_index:]\n",
    "    y_test = y.iloc[test_index:]\n",
    "   \n",
    "\n",
    "    return X_train, X_test, y_train, y_test"
   ]
  },
  {
   "cell_type": "code",
   "execution_count": 31,
   "id": "58004ef2",
   "metadata": {},
   "outputs": [],
   "source": [
    "X_train, X_test, y_train, y_test = timeseries_train_test_split(principalDf, y, 0.3)"
   ]
  },
  {
   "cell_type": "code",
   "execution_count": 32,
   "id": "56ae737b",
   "metadata": {},
   "outputs": [
    {
     "data": {
      "text/html": [
       "<div>\n",
       "<style scoped>\n",
       "    .dataframe tbody tr th:only-of-type {\n",
       "        vertical-align: middle;\n",
       "    }\n",
       "\n",
       "    .dataframe tbody tr th {\n",
       "        vertical-align: top;\n",
       "    }\n",
       "\n",
       "    .dataframe thead th {\n",
       "        text-align: right;\n",
       "    }\n",
       "</style>\n",
       "<table border=\"1\" class=\"dataframe\">\n",
       "  <thead>\n",
       "    <tr style=\"text-align: right;\">\n",
       "      <th></th>\n",
       "      <th>principal component 1</th>\n",
       "      <th>principal component 2</th>\n",
       "    </tr>\n",
       "    <tr>\n",
       "      <th>Time</th>\n",
       "      <th></th>\n",
       "      <th></th>\n",
       "    </tr>\n",
       "  </thead>\n",
       "  <tbody>\n",
       "    <tr>\n",
       "      <th>2017-01-01 00:00:00+01:00</th>\n",
       "      <td>36751.229594</td>\n",
       "      <td>-1586.586485</td>\n",
       "    </tr>\n",
       "    <tr>\n",
       "      <th>2017-01-01 01:00:00+01:00</th>\n",
       "      <td>36751.534079</td>\n",
       "      <td>-1584.515812</td>\n",
       "    </tr>\n",
       "    <tr>\n",
       "      <th>2017-01-01 02:00:00+01:00</th>\n",
       "      <td>36748.477720</td>\n",
       "      <td>-1545.570122</td>\n",
       "    </tr>\n",
       "    <tr>\n",
       "      <th>2017-01-01 03:00:00+01:00</th>\n",
       "      <td>36749.697285</td>\n",
       "      <td>-1547.184175</td>\n",
       "    </tr>\n",
       "    <tr>\n",
       "      <th>2017-01-01 04:00:00+01:00</th>\n",
       "      <td>36751.995536</td>\n",
       "      <td>-1562.878174</td>\n",
       "    </tr>\n",
       "    <tr>\n",
       "      <th>...</th>\n",
       "      <td>...</td>\n",
       "      <td>...</td>\n",
       "    </tr>\n",
       "    <tr>\n",
       "      <th>2020-08-17 22:00:00+02:00</th>\n",
       "      <td>-1684.113096</td>\n",
       "      <td>-1258.285601</td>\n",
       "    </tr>\n",
       "    <tr>\n",
       "      <th>2020-08-17 23:00:00+02:00</th>\n",
       "      <td>-1680.596506</td>\n",
       "      <td>-1296.018645</td>\n",
       "    </tr>\n",
       "    <tr>\n",
       "      <th>2020-08-18 00:00:00+02:00</th>\n",
       "      <td>-1677.156224</td>\n",
       "      <td>-1323.539376</td>\n",
       "    </tr>\n",
       "    <tr>\n",
       "      <th>2020-08-18 01:00:00+02:00</th>\n",
       "      <td>-1666.248432</td>\n",
       "      <td>-1328.578873</td>\n",
       "    </tr>\n",
       "    <tr>\n",
       "      <th>2020-08-18 02:00:00+02:00</th>\n",
       "      <td>-1663.575286</td>\n",
       "      <td>-1253.344106</td>\n",
       "    </tr>\n",
       "  </tbody>\n",
       "</table>\n",
       "<p>31802 rows × 2 columns</p>\n",
       "</div>"
      ],
      "text/plain": [
       "                           principal component 1  principal component 2\n",
       "Time                                                                   \n",
       "2017-01-01 00:00:00+01:00           36751.229594           -1586.586485\n",
       "2017-01-01 01:00:00+01:00           36751.534079           -1584.515812\n",
       "2017-01-01 02:00:00+01:00           36748.477720           -1545.570122\n",
       "2017-01-01 03:00:00+01:00           36749.697285           -1547.184175\n",
       "2017-01-01 04:00:00+01:00           36751.995536           -1562.878174\n",
       "...                                          ...                    ...\n",
       "2020-08-17 22:00:00+02:00           -1684.113096           -1258.285601\n",
       "2020-08-17 23:00:00+02:00           -1680.596506           -1296.018645\n",
       "2020-08-18 00:00:00+02:00           -1677.156224           -1323.539376\n",
       "2020-08-18 01:00:00+02:00           -1666.248432           -1328.578873\n",
       "2020-08-18 02:00:00+02:00           -1663.575286           -1253.344106\n",
       "\n",
       "[31802 rows x 2 columns]"
      ]
     },
     "execution_count": 32,
     "metadata": {},
     "output_type": "execute_result"
    }
   ],
   "source": [
    "X_train"
   ]
  },
  {
   "cell_type": "code",
   "execution_count": 33,
   "id": "49f0cdeb",
   "metadata": {},
   "outputs": [],
   "source": [
    "final = pd.DataFrame()\n",
    "final['Time'] = df1[\"time\"]\n",
    "final['apr_tmp'] = df1['apr_tmp']\n",
    "final['Demand'] = df1['Demand']"
   ]
  },
  {
   "cell_type": "code",
   "execution_count": 34,
   "id": "2ee41ec9",
   "metadata": {},
   "outputs": [],
   "source": [
    "final.fillna(final['Demand'].mode()[0], inplace = True)"
   ]
  },
  {
   "cell_type": "markdown",
   "id": "ac3796da",
   "metadata": {},
   "source": [
    "from the above graph we can easily see that during the months of January, February france experience colder days those can be termed as winter months from November to March during these months the electricity demand in France is relatively high where as in contrast June, July, August, September these are considered as Warm months in France proportionally demand is very low during these months.\n",
    "\n",
    "From this analysis we can conclude that Electricity is very high during the months of winter and low in during other months that makes France export during those months.\n",
    "\n",
    "## Prediction\n",
    "\n",
    "To determine the forecast we have some techniques that helps us to bring out an accurate forecast of electricity demand.\n",
    "- Moving average method\n",
    "\n",
    "- Machine Learning Models \n",
    "\n",
    "- LSTM\n",
    "\n",
    "\n",
    "### Baseline models\n",
    "\n",
    "\n",
    "#### Weighted Moving Average method\n"
   ]
  },
  {
   "cell_type": "code",
   "execution_count": 35,
   "id": "d9bd2aab",
   "metadata": {},
   "outputs": [],
   "source": [
    "def WA_Predictions(data):\n",
    "    #print(\"we predict the values based on {} month\".format(month))\n",
    "    predicted_value=(data.values)[0]\n",
    "    error=[]\n",
    "    predicted_values=[]\n",
    "    window_size=2\n",
    "    for i in range(0,len(data)):\n",
    "        predicted_values.append(predicted_value)\n",
    "        error.append(abs((math.pow(predicted_value-(data.values)[i],1))))\n",
    "        if i+1>=window_size:\n",
    "            sum_values=0\n",
    "            sum_of_coeff=0\n",
    "            for j in range(window_size,0,-1):\n",
    "                sum_values += j*(data.values)[i-window_size+j]\n",
    "                sum_of_coeff+=j\n",
    "            predicted_value=int(sum_values/sum_of_coeff)\n",
    "\n",
    "        else:\n",
    "            sum_values=0\n",
    "            sum_of_coeff=0\n",
    "            for j in range(i+1,0,-1):\n",
    "                sum_values += j*(data.values)[j-1]\n",
    "                sum_of_coeff+=j\n",
    "            predicted_value=int(sum_values/sum_of_coeff)\n",
    "    \n",
    "    data['WA_Predicted'] = predicted_values\n",
    "    data['WA_Error'] = error\n",
    "    #mape_err = (sum(error)/len(error))/(sum(data.values)/len(data.values))\n",
    "    mse_err = sum([e**2 for e in error])/len(error)\n",
    "    return data['WA_Predicted']"
   ]
  },
  {
   "cell_type": "markdown",
   "id": "68d719c9",
   "metadata": {},
   "source": [
    "#### Holt's Winter Triple exponential Forecasting method"
   ]
  },
  {
   "cell_type": "code",
   "execution_count": 36,
   "id": "41e411cb",
   "metadata": {},
   "outputs": [],
   "source": [
    "def initial_trend(series, slen):\n",
    "    sum = 0.0\n",
    "    for i in range(slen):\n",
    "        sum += float(series[i+slen] - series[i]) / slen\n",
    "    return sum / slen\n",
    "\n",
    "def initial_seasonal_components(series, slen):\n",
    "    seasonals = {}\n",
    "    season_averages = []\n",
    "    n_seasons = int(len(series)/slen)\n",
    "    # compute season averages\n",
    "    for j in range(n_seasons):\n",
    "        season_averages.append(sum(series[slen*j:slen*j+slen])/float(slen))\n",
    "    # compute initial values\n",
    "    for i in range(slen):\n",
    "        sum_of_vals_over_avg = 0.0\n",
    "        for j in range(n_seasons):\n",
    "            sum_of_vals_over_avg += series[slen*j+i]-season_averages[j]\n",
    "        seasonals[i] = sum_of_vals_over_avg/n_seasons\n",
    "    return seasonals\n",
    "\n",
    "\n",
    "def triple_exponential_smoothing(series, slen, alpha, beta, gamma, n_preds):\n",
    "    result = []\n",
    "    seasonals = initial_seasonal_components(series, slen)\n",
    "    for i in range(len(series)+n_preds):\n",
    "        if i == 0: # initial values\n",
    "            smooth = series[0]\n",
    "            trend = initial_trend(series, slen)\n",
    "            result.append(series[0])\n",
    "            continue\n",
    "        if i >= len(series): # we are forecasting\n",
    "            m = i - len(series) + 1\n",
    "            result.append((smooth + m*trend) + seasonals[i%slen])\n",
    "        else:\n",
    "            val = series[i]\n",
    "            last_smooth, smooth = smooth, alpha*(val-seasonals[i%slen]) + (1-alpha)*(smooth+trend)\n",
    "            trend = beta * (smooth-last_smooth) + (1-beta)*trend\n",
    "            seasonals[i%slen] = gamma*(val-smooth) + (1-gamma)*seasonals[i%slen]\n",
    "            result.append(smooth+trend+seasonals[i%slen])\n",
    "    return result"
   ]
  },
  {
   "cell_type": "code",
   "execution_count": 37,
   "id": "1683e05d",
   "metadata": {},
   "outputs": [],
   "source": [
    "Y  = list(df['demand [MW]'])"
   ]
  },
  {
   "cell_type": "code",
   "execution_count": 38,
   "id": "7bd41a06",
   "metadata": {},
   "outputs": [],
   "source": [
    "#X_train, X_test, y_train, y_test = timeseries_train_test_split(df['demand [MW]'], y, 0\n",
    "Y_train =  Y[0:int(len(df['demand [MW]'])*0.7)]\n",
    "Y_test = Y[int(len(df['demand [MW]'])*0.7)+1:]"
   ]
  },
  {
   "cell_type": "code",
   "execution_count": 43,
   "id": "75d8438e",
   "metadata": {},
   "outputs": [],
   "source": [
    "wap = WA_Predictions(df['demand [MW]'])"
   ]
  },
  {
   "cell_type": "code",
   "execution_count": 44,
   "id": "9f6ef29d",
   "metadata": {},
   "outputs": [],
   "source": [
    "alpha = 0.2\n",
    "beta = 0.15\n",
    "gamma = 0.2\n",
    "season_len = 24\n",
    "ad = list(df['demand [MW]'])\n",
    "predict_values_3 =[]\n",
    "predict_list_3 = []\n",
    "tsne_flat_exp_avg_2 = []\n",
    "yh_rep = triple_exponential_smoothing(ad[0:len(ad)], season_len, alpha, beta, gamma, 0)\n"
   ]
  },
  {
   "cell_type": "code",
   "execution_count": 45,
   "id": "dfab9765",
   "metadata": {},
   "outputs": [],
   "source": [
    "y_true = list(df['demand [MW]'])"
   ]
  },
  {
   "cell_type": "code",
   "execution_count": 46,
   "id": "5b1eb4ed",
   "metadata": {},
   "outputs": [
    {
     "name": "stdout",
     "output_type": "stream",
     "text": [
      "Weighted moving average  MEAN ABSOLUTE ERROR: 2204.4765528702237\n",
      "Weighted moving average -- R-Square:  94.81159942919965\n",
      "Weighted moving average -- Mean Absolute Percentage error:  4.2406990689915345\n"
     ]
    }
   ],
   "source": [
    "print(\"Weighted moving average  MEAN ABSOLUTE ERROR:\",mean_absolute_error(y_true, wap))\n",
    "#print(\"Weighted moving average -- MEAN SQUARED LOG ERROR:\",mean_squared_log_error(y_true, wap))\n",
    "print(\"Weighted moving average -- R-Square: \", r2_score(y_true, wap)*100)\n",
    "print(\"Weighted moving average -- Mean Absolute Percentage error: \", mean_absolute_percentage_error(y_true, wap)*100)"
   ]
  },
  {
   "cell_type": "code",
   "execution_count": 47,
   "id": "4fa8be0a",
   "metadata": {},
   "outputs": [
    {
     "name": "stdout",
     "output_type": "stream",
     "text": [
      "Holt's Winter Forecast -- MEAN ABSOLUTE ERROR: 1039.7015527666856\n",
      "Holt's Winter Forecast -- R-Square:  98.69570770381189\n",
      "Holt's Winter Forecast -- MEAN ABSOLUTE PERCENTAGE ERROR:  2.0164032245320356\n"
     ]
    }
   ],
   "source": [
    "print(\"Holt's Winter Forecast -- MEAN ABSOLUTE ERROR:\", mean_absolute_error(y_true, yh_rep))\n",
    "#print(\"Holt's Winter Forecast --  MEAN SQUARED LOG ERROR:\", mean_squared_log_error(y_true, yh_rep))\n",
    "print(\"Holt's Winter Forecast -- R-Square: \", r2_score(y_true, yh_rep)*100)\n",
    "print(\"Holt's Winter Forecast -- MEAN ABSOLUTE PERCENTAGE ERROR: \", mean_absolute_percentage_error(y_true, yh_rep)*100)"
   ]
  },
  {
   "cell_type": "markdown",
   "id": "44de7527",
   "metadata": {},
   "source": [
    "So now we develop machine learning model\n",
    "\n",
    "### Machine learning models\n"
   ]
  },
  {
   "cell_type": "code",
   "execution_count": 48,
   "id": "b7d9831e",
   "metadata": {},
   "outputs": [],
   "source": [
    "def Linearreg(X_train, X_test, Y_train, Y_test):\n",
    "     \n",
    "    clf = SGDRegressor(loss = \"squared_loss\", penalty = \"l2\")\n",
    "    values = [ 10**-4, 10**-2, 10**0, 10**2, 10**4, 10**6]\n",
    "    hyper_parameter = {\"alpha\": values}\n",
    "    best_parameter = GridSearchCV(clf, hyper_parameter, scoring = \"neg_mean_absolute_error\", cv = 3)\n",
    "    best_parameter.fit(X_train, Y_train)\n",
    "    alpha = best_parameter.best_params_[\"alpha\"]\n",
    "\n",
    "    print(\" Best Hyperparameter is : {}\".format(alpha))\n",
    "    \n",
    "    print(\".\"*100)\n",
    "    clf = SGDRegressor(loss = \"squared_loss\", penalty = \"l2\", alpha = alpha)\n",
    "    clf.fit(X_train, Y_train)\n",
    "    train_pred = clf.predict(X_train)\n",
    "    train_MAPE = mean_absolute_error(Y_train, train_pred)/ (sum(Y_train)/len(Y_train))\n",
    "    train_MSE = mean_squared_error(Y_train, train_pred)\n",
    "    \n",
    "    test_pred = clf.predict(X_test)\n",
    "    test_MAPE = mean_absolute_error(Y_test, test_pred)/(sum(Y_test)/len(Y_test))\n",
    "    test_MSE = mean_squared_error(Y_test, test_pred)\n",
    "    print(\"Test MAPE\", test_MAPE)\n",
    "    return [train_MAPE, train_MSE, test_MAPE, test_MSE]"
   ]
  },
  {
   "cell_type": "code",
   "execution_count": 60,
   "id": "081c5a32",
   "metadata": {},
   "outputs": [],
   "source": [
    "def rfreg(X_train, Y_train, X_test, Y_test):\n",
    "    #start = datetime.now()\n",
    "    #hyper-paramater tuning\n",
    "    values = [10, 30, 40, 80]\n",
    "    regr1 = RandomForestRegressor(max_features='sqrt',min_samples_leaf=4,min_samples_split=3, n_jobs=-1)\n",
    "\n",
    "    hyper_parameter = {\"n_estimators\": values}\n",
    "    best_parameter = RandomizedSearchCV(regr1, hyper_parameter, scoring = \"neg_mean_absolute_error\", cv = 2, n_jobs = -1)\n",
    "    best_parameter.fit(X_train, Y_train)\n",
    "    estimators = best_parameter.best_params_[\"n_estimators\"]\n",
    "    print(\"Best estimator : {}\".format(estimators))\n",
    "    #print('Time taken for tuning :', datetime.now() - start)\n",
    "    print('.'*100)\n",
    "    #applying random forest with best hyper-parameter\n",
    "    clf = RandomForestRegressor(max_features='sqrt',min_samples_leaf=4,min_samples_split=3,n_estimators=estimators, n_jobs=-1)\n",
    "\n",
    "    clf.fit(X_train, Y_train)\n",
    "    train_pred = []\n",
    "   \n",
    "    train_pred.extend(clf.predict(X_train))\n",
    "    train_MAPE = mean_absolute_error(Y_train, train_pred)/ (sum(Y_train)/len(Y_train))\n",
    "    \n",
    "    train_MSE = mean_squared_error(Y_train, train_pred)\n",
    "    \n",
    "    test_pred = []\n",
    "    \n",
    "    test_pred.extend(clf.predict(X_test))\n",
    "    test_MAPE = mean_absolute_error(Y_test, test_pred)/(sum(Y_test)/len(Y_test))\n",
    "    test_MSE = mean_squared_error(Y_test, test_pred)\n",
    "    test_m = mean_absolute_percentage_error(Y_test, test_pred)*100\n",
    "    print(\"Test MAPE\", test_m)\n",
    "    #print('Time taken :', datetime.now() - start)\n",
    "    return [train_MAPE, train_MSE, test_MAPE, test_MSE]"
   ]
  },
  {
   "cell_type": "code",
   "execution_count": 61,
   "id": "1e842ba5",
   "metadata": {},
   "outputs": [],
   "source": [
    "def dtreg(X_train, Y_train, X_test, Y_test):\n",
    "    #start = datetime.now()\n",
    "    #hyper-paramater tuning\n",
    "    values = [2, 3, 5, 7, 9]\n",
    "    regr_1 = DecisionTreeRegressor(max_depth=values)\n",
    "    hyper_parameter = {\"max_depth\": values}\n",
    "    best_parameter = RandomizedSearchCV(regr_1, hyper_parameter, scoring = \"neg_mean_absolute_error\", cv = 2, n_jobs = -1)\n",
    "    best_parameter.fit(X_train, Y_train)\n",
    "    estimators = best_parameter.best_params_[\"max_depth\"]\n",
    "    print(\"Best estimator : {}\".format(estimators))\n",
    "    #print('Time taken for tuning :', datetime.now() - start)\n",
    "    print('.'*100)\n",
    "    #applying random forest with best hyper-parameter\n",
    "    clf = DecisionTreeRegressor(max_depth=estimators)\n",
    "    clf.fit(X_train, Y_train)\n",
    "    train_pred = []\n",
    "   \n",
    "    train_pred.extend(clf.predict(X_train))\n",
    "    train_MAPE = mean_absolute_error(Y_train, train_pred)/ (sum(Y_train)/len(Y_train))\n",
    "    \n",
    "    train_MSE = mean_squared_error(Y_train, train_pred)\n",
    "    \n",
    "    test_pred = []\n",
    "    \n",
    "    test_pred.extend(clf.predict(X_test))\n",
    "    test_MAPE = mean_absolute_error(Y_test, test_pred)/(sum(Y_test)/len(Y_test))\n",
    "    test_MSE = mean_squared_error(Y_test, test_pred)\n",
    "    test_m = mean_absolute_percentage_error(Y_test, test_pred)*100\n",
    "    print(\"Test MAPE\", test_m)\n",
    "    #print('Time taken :', datetime.now() - start)\n",
    "    return [train_MAPE, train_MSE, test_MAPE, test_MSE]"
   ]
  },
  {
   "cell_type": "markdown",
   "id": "d498febe",
   "metadata": {},
   "source": [
    "### Prepare Data for Machine learning models"
   ]
  },
  {
   "cell_type": "code",
   "execution_count": 51,
   "id": "aa4806f9",
   "metadata": {},
   "outputs": [],
   "source": [
    "fd = pd.DataFrame()\n",
    "fd[\"cloudCover\"] = df['cloud_cover [%]']\n",
    "fd[\"app_temp\"]  = df['apparent_tmp [Kelvin]']\n",
    "fd[\"demand\"] = df[\"demand [MW]\"]\n",
    "fd[\"tripleexpavg\"] = yh_rep"
   ]
  },
  {
   "cell_type": "code",
   "execution_count": 52,
   "id": "edcaa017",
   "metadata": {},
   "outputs": [],
   "source": [
    "\n",
    "for i in range(0, 5):\n",
    "    #print(i+1)\n",
    "    fd[\"lag_{}\".format(i+1)] = fd['demand'].shift(i+1)\n",
    "fd = fd.fillna(0)"
   ]
  },
  {
   "cell_type": "code",
   "execution_count": 53,
   "id": "b8ae0af0",
   "metadata": {},
   "outputs": [],
   "source": [
    "scaler = StandardScaler()\n",
    "X = fd.drop(['demand'], 1)\n",
    "y = fd['demand']\n",
    "\n",
    "X_train, X_test, y_train, y_test = timeseries_train_test_split(X, y, test_size=0.3)\n",
    "X_train_scaled = scaler.fit_transform(X_train)\n",
    "X_test_scaled = scaler.transform(X_test)"
   ]
  },
  {
   "cell_type": "code",
   "execution_count": 54,
   "id": "38047100",
   "metadata": {},
   "outputs": [
    {
     "name": "stdout",
     "output_type": "stream",
     "text": [
      " Best Hyperparameter is : 1\n",
      "....................................................................................................\n",
      "Test MAPE 0.051285775719410835\n",
      "Train MAPE : 0.05393064755366688\n",
      "Train MSE : 13229922.910140684\n",
      "Test MAPE : 0.051285775719410835\n",
      "Test MSE : 12586671.696013033\n"
     ]
    }
   ],
   "source": [
    "#nwtrain = normalize(X_train)\n",
    "#nwtest = normalize(X_test)\n",
    "LRwmetric = Linearreg(X_train_scaled, X_test_scaled, y_train, y_test)\n",
    "\n",
    "LRwtrainMAPE = LRwmetric[0]\n",
    "LRwtrainMSE = LRwmetric[1]\n",
    "LRwtestMAPE = LRwmetric[2]\n",
    "LRwtestMSE = LRwmetric[3]\n",
    "\n",
    "print(\"Train MAPE : {}\".format(LRwtrainMAPE))\n",
    "print(\"Train MSE : {}\".format(LRwtrainMSE))\n",
    "print(\"Test MAPE : {}\".format(LRwtestMAPE))\n",
    "print(\"Test MSE : {}\".format(LRwtestMSE))"
   ]
  },
  {
   "cell_type": "code",
   "execution_count": 55,
   "id": "3ad7ad7e",
   "metadata": {},
   "outputs": [
    {
     "data": {
      "text/plain": [
       "XGBRegressor(base_score=0.5, booster='gbtree', colsample_bylevel=1,\n",
       "             colsample_bynode=1, colsample_bytree=1, enable_categorical=False,\n",
       "             gamma=0, gpu_id=-1, importance_type=None,\n",
       "             interaction_constraints='', learning_rate=0.300000012,\n",
       "             max_delta_step=0, max_depth=6, min_child_weight=1, missing=nan,\n",
       "             monotone_constraints='()', n_estimators=100, n_jobs=8,\n",
       "             num_parallel_tree=1, predictor='auto', random_state=0, reg_alpha=0,\n",
       "             reg_lambda=1, scale_pos_weight=1, subsample=1, tree_method='exact',\n",
       "             validate_parameters=1, verbosity=None)"
      ]
     },
     "execution_count": 55,
     "metadata": {},
     "output_type": "execute_result"
    }
   ],
   "source": [
    "from xgboost import XGBRegressor \n",
    "\n",
    "xgb = XGBRegressor()\n",
    "xgb.fit(X_train_scaled, y_train)"
   ]
  },
  {
   "cell_type": "code",
   "execution_count": 56,
   "id": "3fe853d5",
   "metadata": {},
   "outputs": [],
   "source": [
    "test_pred = xgb.predict(X_test_scaled)"
   ]
  },
  {
   "cell_type": "code",
   "execution_count": 57,
   "id": "1d427111",
   "metadata": {},
   "outputs": [],
   "source": [
    "#test_pred.extend(clf.predict(X_test))\n",
    "test_MAPE = mean_absolute_error(y_test, test_pred)/(sum(y_test)/len(y_test))"
   ]
  },
  {
   "cell_type": "code",
   "execution_count": 58,
   "id": "61f0791a",
   "metadata": {},
   "outputs": [
    {
     "name": "stdout",
     "output_type": "stream",
     "text": [
      "MEAN ABSOLUTE ERROR: 0.011768482494803287\n"
     ]
    }
   ],
   "source": [
    "print(\"MEAN ABSOLUTE ERROR:\",test_MAPE)\n"
   ]
  },
  {
   "cell_type": "code",
   "execution_count": 62,
   "id": "3b93f662",
   "metadata": {},
   "outputs": [
    {
     "name": "stdout",
     "output_type": "stream",
     "text": [
      "Best estimator : 9\n",
      "....................................................................................................\n",
      "Test MAPE 1.5672306663994786\n",
      "Train MAPE : 0.01384740817468235\n",
      "Train MSE : 949090.5677658604\n",
      "Test MAPE : 0.015486808136789633\n",
      "Test MSE : 1252150.4056916698\n"
     ]
    }
   ],
   "source": [
    "dtwmetric =dtreg(X_train_scaled, y_train, X_test_scaled, y_test)\n",
    "dtwtrainMAPE = dtwmetric[0]\n",
    "dtwtrainMSE = dtwmetric[1]\n",
    "dtwtestMAPE = dtwmetric[2]\n",
    "dtwtestMSE = dtwmetric[3]\n",
    "\n",
    "print(\"Train MAPE : {}\".format(dtwtrainMAPE))\n",
    "print(\"Train MSE : {}\".format(dtwtrainMSE))\n",
    "print(\"Test MAPE : {}\".format(dtwtestMAPE))\n",
    "print(\"Test MSE : {}\".format(dtwtestMSE))"
   ]
  },
  {
   "cell_type": "code",
   "execution_count": 63,
   "id": "2b115f9d",
   "metadata": {},
   "outputs": [
    {
     "name": "stdout",
     "output_type": "stream",
     "text": [
      "Best estimator : 80\n",
      "....................................................................................................\n",
      "Test MAPE 1.12690333765672\n",
      "Train MAPE : 0.007075243538844923\n",
      "Train MSE : 286577.4847130103\n",
      "Test MAPE : 0.011162894602148818\n",
      "Test MSE : 659308.4067210872\n"
     ]
    }
   ],
   "source": [
    "RFwmetric =rfreg(X_train_scaled, y_train, X_test_scaled, y_test)\n",
    "RFwtrainMAPE = RFwmetric[0]\n",
    "RFwtrainMSE = RFwmetric[1]\n",
    "RFwtestMAPE = RFwmetric[2]\n",
    "RFwtestMSE = RFwmetric[3]\n",
    "\n",
    "print(\"Train MAPE : {}\".format(RFwtrainMAPE))\n",
    "print(\"Train MSE : {}\".format(RFwtrainMSE))\n",
    "print(\"Test MAPE : {}\".format(RFwtestMAPE))\n",
    "print(\"Test MSE : {}\".format(RFwtestMSE))"
   ]
  }
 ],
 "metadata": {
  "kernelspec": {
   "display_name": "Python 3",
   "language": "python",
   "name": "python3"
  },
  "language_info": {
   "codemirror_mode": {
    "name": "ipython",
    "version": 3
   },
   "file_extension": ".py",
   "mimetype": "text/x-python",
   "name": "python",
   "nbconvert_exporter": "python",
   "pygments_lexer": "ipython3",
   "version": "3.8.8"
  }
 },
 "nbformat": 4,
 "nbformat_minor": 5
}
